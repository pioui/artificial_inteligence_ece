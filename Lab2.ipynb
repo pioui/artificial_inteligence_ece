{
  "nbformat": 4,
  "nbformat_minor": 0,
  "metadata": {
    "kernelspec": {
      "display_name": "Python 3",
      "language": "python",
      "name": "python3"
    },
    "language_info": {
      "codemirror_mode": {
        "name": "ipython",
        "version": 3
      },
      "file_extension": ".py",
      "mimetype": "text/x-python",
      "name": "python",
      "nbconvert_exporter": "python",
      "pygments_lexer": "ipython3",
      "version": "3.7.6"
    },
    "colab": {
      "provenance": [],
      "collapsed_sections": [
        "doHQmp994rUb",
        "GxLahZ-i4rUc",
        "GOLD2CWDMjt0",
        "hFI2bmnlvsH8"
      ]
    }
  },
  "cells": [
    {
      "cell_type": "markdown",
      "metadata": {
        "id": "RQChnnUNRWa3"
      },
      "source": [
        "## Ομάδα\n",
        "\n",
        "Στοιχεία Μέλους 1: Άρτεμις Πυλαρινού el18154\n",
        "\n",
        "Στοιχεία Μέλους 2: Πηγή Λόζου el16431"
      ]
    },
    {
      "cell_type": "markdown",
      "metadata": {
        "id": "YNwhI6744rUa"
      },
      "source": [
        "# Τεχνητή Νοημοσύνη: Εργαστηριακή Άσκηση 2\n",
        "---\n",
        "\n",
        "Ο στόχος της εργασίας είναι η κατασκευή ενός συστήματος προτάσεων (Recommendation System) για ταινίες. Οι προτάσεις αυτές θα πηγάζουν τόσο από τα χαρακτηριστικά της ταινίας όσο και από ορισμένες αξιολογήσεις του κάθε χρήστη.\n",
        "\n",
        "Στα δεδομένα της άσκησης περιλαμβάνονται ένα αρχείο με το όνομα movies_metadata.csv το όποιο περιέχει τα χαρακτηριστικά κάθε ταινίας όπως θέμα, σκηνοθέτης ηθοποιοί, λέξεις κλειδιά κ.α. από το imdb καθώς και τα αρχεία ratings.csv τα όποια περιέχουν πραγματικές αξιολογήσεις χρηστών, χωρισμένες σε train και σε test.\n"
      ]
    },
    {
      "cell_type": "markdown",
      "metadata": {
        "id": "021xhsuy4rUa"
      },
      "source": [
        "# Εκφώνηση\n",
        "Στην παρούσα εργασία σας ζητείται να μελετήσετε και να υλοποιήσετε τα παρακάτω:<br>\n",
        "\n",
        "### Μέρος 1\n",
        "Στο μέρος 1 και 2 θα εργαστείτε μόνο με το αρχείο movies_metadata.csv, ενώ στο μέρος τρία θα δουλέψετε και με τα αρχεία των αξιολογήσεων.\n",
        "#### Ερώτημα 1α\n",
        "\n",
        "Αρχικά θα πρέπει, αφού μελετήσετε τη δομή και τα χαρακτηριστικά του movies_metadata.csv, να κατασκευάσετε μια βάση γνώσης για την Prolog η όποια ουσιαστικά θα αποτελεί τον κόσμο με τον όποιο θα εργαστείτε στην συνέχεια. Τα κατηγορήματα που θα δημιουργηθούν θα σας βοηθήσουν και στην κατασκευή του recommender και θα είναι της μορφής:\n",
        "\n",
        "```\n",
        "director(Movie, Director).\n",
        "genre(Movie, Genre).\n",
        "```\n",
        "#### Ερώτημα 1β\n",
        "\n",
        "Αφού δημιουργήσετε τον κόσμο του προβλήματος, στη συνέχεια καλείστε να δημιουργήσετε, σε Prolog, απλούς κανόνες οι οποίοι θα βρίσκουν όλες τις ταινίες με:\n",
        "1.\tΚοινό θέμα (κάποιες λέξεις σχετικά με το genre κοινές)\n",
        "2.\tΑρκετά κοινό θέμα (κάποιες λιγότερες λέξεις σχετικά με το genre κοινές π.χ. 3)\n",
        "3.\tΣχετικά κοινό θέμα (λίγες λέξεις σχετικές με το genre κοινές π.χ. 1)\n",
        "4.\tΚοινός σκηνοθέτης\n",
        "5.\tΑκριβώς ίδια πλοκή (κάποιες λέξεις κλειδιά της πλοκής κοινές)\n",
        "6.\tΣχετικά ίδια πλοκή (κάποιες λιγότερες λέξεις κλειδιά κοινές)\n",
        "7.\tΊδιους τους βασικούς ηθοποιούς (και τους 3)\n",
        "8.\tΑρκετά ίδιους βασικούς ηθοποιούς (ορισμένους βασικούς ηθοποιούς κοινούς π.χ. 2)\n",
        "9.\tΣχετικά ίδιους ηθοποιούς (π.χ. 1 από τους 3)\n",
        "10.\tΊδια γλώσσα\n",
        "11.\tΕίναι έγχρωμες ή ασπρόμαυρες\n",
        "12. Κοινό studio παραγωγής\n",
        "13. Κοινή χώρα παραγωγής\n",
        "14. Ίδια δεκαετία\n",
        "\n",
        "Αξίζει να σημειωθεί ότι στα παραπάνω μπορείτε να προσθέσετε περισσότερα ερωτήματα ή να αλλάξετε την κλιμακωσιμότητα των queries (πέρα από το ίδιο, αρκετά ίδιο, σχετικά ίδιο) που θα κατασκευάσετε(π.χ. μια κλίμακα από 1 στα 5 όπου αυτό είναι δυνατόν), μιας και αυτά στην συνέχεια θα χρησιμοποιηθούν για την λειτουργία του recommender. Έτσι μπορείτε να προσθέσετε queries με τα όποια μπορεί να παράγονται καλύτερες συστάσεις  (το αρχείο movie_metadata.csv περιέχει πολλές πληροφορίες ακόμα για κάθε ταινία όπως έτος κυκλοφορίας, βαθμολογία στο imdb, facebοok_likes κ.α.). Το συγκεκριμένο μέρος εργασίας είναι προπαρασκευαστικό οπότε όσο καλύτερα και πλουσιότερα τα ερωτήματα που θα φτιάξετε σε αυτό το μέρος τόσο καλύτερη θα είναι η απόδοσή των συστημάτων συστάσεων των επόμενων ερωτημάτων.\n",
        "\n",
        "Περισσότερες πληροφορίες για το dataset μπορείτε να διαβάσετε σε αυτό το [Link](https://www.kaggle.com/georgefila/movies-metadata).\n",
        "### Μέρος 2: Recommendation System\n",
        "Στο σημείο αυτό καλείστε με βάση αυτά που κάνατε στο μέρος 1 να κατασκευάσετε queries τα όποια θα σας επιστρέφουν παρόμοιες (σε χαρακτηριστικά) ταινίες. Τα ερωτήματα αυτά θα είναι κλιμακούμενα, δηλαδή θα υπάρχουν ερωτήματα που επιστρέφουν αρκετά κοινές ταινίες αλλά και που επιστρέφουν λιγότερο και λιγότερο κοινές (σε μια κλίμακα π.χ. από 1 σε 5). Για παράδειγμα:\n",
        "\n",
        "```\n",
        "find_simmilar_movies_5(\"Pirates Of The Caribbean\", M).\n",
        "M = \"Pirates Of The Caribbean: On Stranger Tides\"\n",
        "M = \"The Chronicles Of Narnia\"\n",
        "M = \"Prince Of Persia: The Sands Of Time\"\n",
        "...\n",
        "```\n",
        "Για παράδειγμα, το παραπάνω ερώτημα θα επιστρέφει αρκετά κοινές σε περιεχόμενο ταινίες με την ταινια \"Pirates Of The Caribbean\". Θα υπάρχουν και αντίστοιχα ερωτήματα που θα βρίσκουν λιγότερο όμοιες ταινίες. Ο δείκτης ομοιότητας των ταινιών είναι αυθαίρετος και μπορείτε να τον ορίσετε εσείς όπως θέλετε, αρκεί να υπάρχει κάποια λογική σύνδεση με τα δεδομένα που περιέχονται στο αρχείο movies_metadata.csv.\n",
        "\n",
        "Συνεπώς η συνάρτηση που θα κάνει τις προτάσεις (recommendation) με είσοδο μια ταινία πρέπει να επιστρέφει-εκτυπώνει μια λίστα με τις προτεινόμενες ταινίες κατά φθίνουσα σειρά ομοιότητας.\n",
        "\n",
        "\n",
        "###3ο Μέρος: Recommendation System Με βάση τις προτιμήσεις - Αξιολογήσεις του χρήστη\n",
        "\n",
        "\n",
        "Σε αυτό το σημείο θα εργαστείτε με τα αρχεία ratings τα όποια περιέχουν αξιολογήσεις (από 1 μέχρι 5) για τις παραπάνω ταινίες. Το προηγούμενο σύστημα συστάσεων προτείνει στον χρήστη ταινίες αποκλειστικά με βάση την ομοιότητά τους. Σε αυτό το σημείο θα γίνει μια αναβάθμιση του συστήματος έτσι ώστε να παράγονται καλύτερες  συστάσεις οι όποιες θα λαμβάνουν υπόψιν και τις προτιμήσεις του χρήστη, οι όποιες θα εξάγονται από τις αξιολογήσεις που έχει κάνει μέχρι στιγμής.\n",
        "\n",
        "Η εκπαίδευση του recommender θα γίνεται ως εξής:\n",
        "\n",
        "Για κάθε ταινία θα υπάρχει ένα score το όποιο αρχικά θε είναι ίσο με 0 και θα διαμορφώνεται από τις αξιολογήσεις κάθε user. Έτσι για έναν χρήστη με βάση τις αξιολογήσεις που υπάρχουν στο αρχείο train_ratings θα πρέπει:\n",
        "\n",
        "1.\tΓια κάθε ταινία που έχει βαθμολογήσει να βρίσκονται οι κοινές ταινίες ανά κλίμακα και στο μέχρι τώρα σκορ κάθε παρόμοιας ταινίας θα προστίθεται ένα βάρος το όποιο θα μπορούσε να είναι το ποσοστό ομοιότητας της ταινίας (δηλαδή ένα βάρος για κάθε κλίμακα, αν δύο ταινίες μοιάζουν ενισχύουμε το βάρος που προσθέτουμε από το να μοιάζουν λιγότερο) επί τον βαθμό που έχει βάλει ο χρήστης για την αρχική ταινία (διαφορετικό είναι ο χρήστης να έχει βάλει 5/5 ή 1/5 σε μια ταινία από 3/5).\n",
        "\n",
        "2. Στη συνέχεια, ανάλογα με το σκορ που έχει σχηματιστεί για κάθε ταινία, θα επιλέγεται αν αυτή θα μπορούσε να είναι προτεινόμενη για τον χρήστη ή όχι και θα μετράμε το πόσο καλά τα πήγε το σύστήμά μας με βάση ορισμένες μετρικές.\n",
        "\n",
        "Η λογική πίσω από την παραπάνω διαδικασία είναι ότι παρόμοιες ταινίες θα έχουν ανάλογο βαθμό. Για παράδειγμα αν ένας χρήστης έχει αξιολογήσει αρκετές  ταινίες οι όποιες είναι sci-fiction με 5/5 τότε μια ταίνια sci-fiction την όποια δεν έχει δεί λογικά θα του αρέσει και θα έπρεπε να την προτείνουμε.\n",
        "\n",
        "Μετά την εκπαίδευση του συστήματος σας καλείστε να δοκιμάσετε τον recommender που κατασκευάσατε στην πράξη. Για τον σκοπό αυτό θα φορτώσετε το αρχείο test_ratings.csv όπου περιέχονται οι αξιολογήσεις του ίδιου χρήστη για άλλες ταινίες. Το σύστημά σας πρέπει να προβλέπει αν μια ταινία θα πρέπει να προταθεί στον χρήστη. Μια ταίνια θεωρούμε οτι προτείνεται στον  χρήστη, αν έχει βαθμό μεγαλύτερο του 3 στο test_ratings. Συνεπώς για την επίβλεψη του συστήματός σας θα πρέπει για κάθε μια από τις ταινίες του αρχείου test_ratings.csv να προβλέψετε εάν θα αρέσει στο χρήστη ή όχι ώστε να την προτείνετε.\n",
        "\n",
        "ΠΡΟΣΟΧΗ! Η \"βαθμολογία\" που θα υπολογίσετε για κάθε ταινία κατά το training δεν είναι απαραίτητα πρόβλεψη της βαθμολογίας που θα έβαζε ο χρήστης.\n",
        "\n",
        "Στην συνέχεια, σε συνδιασμό με τις πραγματικές απαντήσεις του χρήστη θα αξιολογήσετε το σύστημά σας χρησιμοποιόντας τις μετρικές: precision, recall, f1 οι οποίες είναι οι πλέον γνωστές μετρικές και ευρέως χρησιμοποιούμενες τεχνικές για την επίβλεψη-μέτρηση απόδοσης ανάλογων συστημάτων.\n",
        "\n",
        "1. Precision: Δείχνει πόσο ακριβές είναι το σύστημα. Υπολογίζει πόσα από τα στιγμιότυπα τα όποια προβλέψαμε ότι ανήκουν σε μια κλάση όντως ανήκουν σε αυτή. Η μετρική αυτή μας δίνει μια εικόνα σχετικά με τον αριθμό των ταινίων που προβλέψαμε ως προτεινόμενες ενώ δεν θα έπρεπε.\n",
        "\n",
        "2. Recall: Υπολογίζει πόσα από τα στιγμιότυπα που ανήκουν σε μια κλάση (π.χ. προτεινόμενες ταινίες) προβλέφθηκαν σωστά.\n",
        "\n",
        "3. F1: Είναι ένας μέσος μεταξύ των παραπάνω δυο μετρικών, έτσι ώστε να διατηρείται μια ισορροπία μεταξύ τους. Υπολογίζεται από την παρακάτω σχέση:\n",
        "\n",
        "$$F_1=2\\frac{Precision\\times{Recall}}{Precision+Recall}$$\n",
        "\n",
        "Οι παραπάνω συναρτήσεις παρέχονται από την βιβλιοθήκη scikit-learn.\n",
        "\n",
        "Τέλος για την καλύτερη επίβλεψη του συστήματος σας μπορείτε να εκπαιδεύσετε  τον recommender σας με ένα υποσύνολο ταινίων από ελάχιστες, λίγες μέχρι και πολλές (π.χ. 3, 5, 10, 50, ...) για να μελετήσετε κατά πόσο σας βοηθούν οι επιπλέον αξιολογήσεις κάθε φορά (δηλαδή κατά πόσο βελτιώνονται οι παραπάνω μετρικές στο test set).\n",
        "\n",
        "Έτσι π.χ. μπορείτε να εντοπίσετε περιπτώσεις όπως για παράδειγμα ότι με έναν recommender μπορεί να μην επιτυγχάνετε πολύ υψηλό σκορ όσο με άλλους, αλλά το βέλτιστο σκόρ σας επιτυγχάνεται πολύ γρηγόρα π.χ. με μόνο 10 ταινίες αντί 100. Έτσι για παράδειγμα αν ο αλγόριθμος τα πηγαίνει πολύ καλά για τρεις ταινίες και στη συνέχεια το σκορ βελτιώνεται ελάχιστα τότε αυτός ενδείκνυται για ένα σύστημα συστάσεων για νέους χρήστες όπου δεδομένου λίγων ταινιών ο αλγόριθμος είναι σε θέση να το να προτείνει καλές συστάσεις. Ενώ αν η καλύτερη απόδοση του αλγορίθμου σας είναι βέλτιστη με περισσότερες ταινίες π.χ. 50 τότε αυτός ο αλγόριθμος συστάσεων ενδείκνυται για παλιούς χρήστες με πολλές αξιολόγησεις."
      ]
    },
    {
      "cell_type": "markdown",
      "metadata": {
        "id": "9HWH0oMY4rUb"
      },
      "source": [
        "---\n",
        "## Κατασκευή Περιβάλλοντος Εργασίας\n",
        "---\n",
        "### Διάβασμα Αρχείων στο Colab (Μόνο για το Colab)\n",
        "Αν η υλοποίηση γίνει στο google colab τότε μπορεί να χρησιμοποιηθεί το google drive ως file system. Για να γίνει Mount το google drive τρέχουμε τον παρακάτω κώδικα και κλικάρουμε στο link που θα μας εμφανιστεί.\n",
        "\n",
        "```\n",
        "from google.colab import drive\n",
        "drive.mount('/content/drive')\n",
        "import os\n",
        "os.listdir('/gdrive/My Drive')\n",
        "```\n",
        "Έπειτα στην σελίδα που άνοιξε επιλέγουμε το mail μας και στο επόμενο παράθυρο που θα μας ανοίξει πατάμε Να επιτρέπεται. Στην συνέχεια αντιγράφουμε τον κωδικό που θα μας βγάλει και τον κάνουμε paste στο Input που έχει ανοίξει στο colab. Έτσι πλέον αν έχουμε ανεβάσει ένα αρχείο στο google drive μπορούμε να το βρούμε στην θέση:\n",
        "\n",
        "```\n",
        "movies_filename = '/gdrive/My Drive/' + movies_metadata.csv\n",
        "```\n",
        "Μπορούμε πλέον κανονικά να δουλέψουμε φτιάχνοντας φακέλους ή αρχεία και γενικότερα κάνοντας οτιδήποτε θα κάναμε αν ήμασταν τοπικά.\n",
        "\n",
        "### Prolog μέσω Python\n",
        "\n",
        "Το πακέτο που θα χρησιμοποιηθεί για την επικοινωνία Python και Prolog είναι το pyswip (https://pypi.org/project/pyswip/). Για να δουλέψει το Pyswip  χρειάζεται να υπάρχει το Swi-Prolog το όποιο αν δουλεύουμε τοπικά πρέπει να το εγκαταστήσουμε, ακολουθώντας αντίστοιχες οδηγίες στην σελίδα του εργαλείου. Για να γίνει του Swi-Prolog η εγκατάσταση στο Google Colab πρέπει να τρέξουμε τον παρακάτω κώδικα:\n",
        "\n",
        "```\n",
        "!sudo apt-get install software-properties-common\n",
        "!sudo apt-add-repository ppa:swi-prolog/stable\n",
        "!sudo apt-get update\n",
        "!sudo apt-get install swi-prolog\n",
        "```\n",
        "Σε κάποιο σημείο της εκτέλεσης εμφανίζεται ένα μήνυμα ότι πρέπει να πατήσουμε enter σε ένα input για να συνεχίσει η διαδικασία. Έπειτα από αυτό η εκτέλεση θα συνεχίσει χωρίς κάποιο πρόβλημα.\n",
        "\n",
        "Τέλος πρέπει να εγκαταστήσουμε το pyswip (**όπου και να δουλεύουμε**) όπως παρακάτω:\n",
        "\n",
        "```\n",
        "!pip isntall pyswip\n",
        "```\n"
      ]
    },
    {
      "cell_type": "markdown",
      "metadata": {
        "id": "doHQmp994rUb"
      },
      "source": [
        "---\n",
        "#Κώδικας για κατασκευή περιβάλλοντος εργασίας\n",
        "\n",
        "##Μόνο για Google Colab\n",
        "\n",
        "Κώδικας για να γίνει Mount to Google Drive"
      ]
    },
    {
      "cell_type": "code",
      "metadata": {
        "id": "4QOs_gnx4rUb",
        "colab": {
          "base_uri": "https://localhost:8080/"
        },
        "outputId": "a11908c7-da1f-48b5-e0bf-50ae8318a05c"
      },
      "source": [
        "from google.colab import drive\n",
        "drive.mount('/content/drive')\n",
        "\n",
        "import os"
      ],
      "execution_count": null,
      "outputs": [
        {
          "output_type": "stream",
          "name": "stdout",
          "text": [
            "Mounted at /content/drive\n"
          ]
        }
      ]
    },
    {
      "cell_type": "code",
      "source": [
        "path = \"/content/drive/MyDrive/artificial inteligence labs/lab2\"\n",
        "os.listdir(path)"
      ],
      "metadata": {
        "id": "aCL2sGkXBmi_",
        "colab": {
          "base_uri": "https://localhost:8080/"
        },
        "outputId": "21ddf032-3b5e-424f-d035-1921bf996840"
      },
      "execution_count": null,
      "outputs": [
        {
          "output_type": "execute_result",
          "data": {
            "text/plain": [
              "['train_ratings.csv',\n",
              " 'test_ratings.csv',\n",
              " 'PrologIntro.ipynb',\n",
              " 'db.pl',\n",
              " 'movies_metadata.csv',\n",
              " '2ο Θέμα.ipynb']"
            ]
          },
          "metadata": {},
          "execution_count": 2
        }
      ]
    },
    {
      "cell_type": "code",
      "metadata": {
        "id": "xZdXjQr64rUc"
      },
      "source": [
        "%%capture\n",
        "#install swi-prolog\n",
        "!sudo apt-get install software-properties-common\n",
        "!sudo apt-add-repository ppa:swi-prolog\n",
        "!sudo apt-get update\n",
        "!sudo apt-get install swi-prolog\n",
        "#install pyswip\n",
        "!pip install pyswip"
      ],
      "execution_count": null,
      "outputs": []
    },
    {
      "cell_type": "markdown",
      "metadata": {
        "id": "GxLahZ-i4rUc"
      },
      "source": [
        "\n",
        "# **Μέρος 1: Μελέτη των Metadata, Δημιουργία κόσμου και των βασικών queries.**\n"
      ]
    },
    {
      "cell_type": "code",
      "metadata": {
        "id": "gA3CRz5c4rUc"
      },
      "source": [
        "import pandas as pd\n",
        "from pyswip import Prolog"
      ],
      "execution_count": null,
      "outputs": []
    },
    {
      "cell_type": "code",
      "metadata": {
        "id": "jnVDBIDw4rUd"
      },
      "source": [
        "# Διάβασμα του αρχείου 'movie_metadata.csv'\n",
        "data = pd.read_csv(path + \"/movies_metadata.csv\")\n",
        "#Στο csv υπαρχούν κελία με nan τιμές στις θέσεις αυτές βάζουμε 'UNK' με την παρακάτω συνάρτηση\n",
        "data.fillna(\"UNK\", inplace=True)"
      ],
      "execution_count": null,
      "outputs": []
    },
    {
      "cell_type": "markdown",
      "source": [
        "## Μέρος 1α:\n"
      ],
      "metadata": {
        "id": "qC4sVoDo49Jc"
      }
    },
    {
      "cell_type": "code",
      "source": [
        "data.columns"
      ],
      "metadata": {
        "colab": {
          "base_uri": "https://localhost:8080/"
        },
        "id": "kMHz6pJsR-HS",
        "outputId": "6f8339d6-86a4-4f1c-d24a-eeb97b6e6d26"
      },
      "execution_count": null,
      "outputs": [
        {
          "output_type": "execute_result",
          "data": {
            "text/plain": [
              "Index(['Unnamed: 0', 'budget', 'genres', 'homepage', 'id', 'plot_keywords',\n",
              "       'language', 'original_title', 'overview', 'popularity',\n",
              "       'production_companies', 'production_countries', 'release_date', 'gross',\n",
              "       'duration', 'spoken_languages', 'status', 'tagline', 'movie_title',\n",
              "       'vote_average', 'num_voted_users', 'title_year', 'country',\n",
              "       'director_name', 'actor_1_name', 'actor_2_name', 'actor_3_name'],\n",
              "      dtype='object')"
            ]
          },
          "metadata": {},
          "execution_count": 6
        }
      ]
    },
    {
      "cell_type": "code",
      "metadata": {
        "id": "sPAqSe0n4rUd"
      },
      "source": [
        "def clean_text(text):\n",
        "  text = text.replace(u'\\xa0', u'')\n",
        "  text = text.replace(u\"'\", u'')\n",
        "  text = text.replace(u\"[\", u'')\n",
        "  text = text.replace(u\"]\", u'')\n",
        "  return text"
      ],
      "execution_count": null,
      "outputs": []
    },
    {
      "cell_type": "code",
      "source": [
        "def split_decades(year):\n",
        "  year = int(year.split('.')[0])\n",
        "\n",
        "  if year < 1970:\n",
        "    return \"60s\"\n",
        "  elif year < 1980:\n",
        "    return \"70s\"\n",
        "  elif year < 1990:\n",
        "    return \"80s\"\n",
        "  elif year < 2000:\n",
        "    return \"90s\"\n",
        "  elif year < 2010:\n",
        "    return \"00s\"\n",
        "  elif year < 2020:\n",
        "    return \"10s\""
      ],
      "metadata": {
        "id": "m6eZ4KH0A9Kp"
      },
      "execution_count": null,
      "outputs": []
    },
    {
      "cell_type": "code",
      "metadata": {
        "id": "RcOo0hyJ4rUd"
      },
      "source": [
        "#create World\n",
        "prolog = Prolog()\n",
        "\n",
        "#Για κάθε row του πίνακα φτιάχνουμε τα κατηγορήματα που θέλουμε να αποθηκέυσουμε\n",
        "literals = []\n",
        "movie_score = {}\n",
        "for row in data.itertuples(index=True, name='Pandas'):\n",
        "  movie_title = clean_text(getattr(row, 'movie_title'))\n",
        "\n",
        "  genres = getattr(row, 'genres').split(\"|\")\n",
        "  if movie_title != 'UNK':\n",
        "    #Genre\n",
        "    for genre in genres:\n",
        "       if genre != 'UNK':\n",
        "         literals.append(\"genre('\"+ movie_title +\"','\"+ genre +\"')\")\n",
        "\n",
        "    #Language\n",
        "    language = clean_text(getattr(row, 'language'))\n",
        "    if language != 'UNK':\n",
        "      literals.append(\"language('\"+ movie_title +\"','\"+ language+\"')\")\n",
        "\n",
        "    #Keywords\n",
        "    plot_keywords = clean_text(getattr(row, 'plot_keywords'))\n",
        "    for keyword in plot_keywords:\n",
        "        literals.append(\"keywords('\"+ movie_title +\"','\"+ keyword+\"')\")\n",
        "        if keyword == \"black and white\":\n",
        "          color = \"black_and_white\"\n",
        "        else:\n",
        "          color = \"colored\"\n",
        "    literals.append(\"color('\"+ movie_title +\"','\" + color + \"')\")\n",
        "\n",
        "    #Director\n",
        "    director_name = clean_text(getattr(row, 'director_name'))\n",
        "    literals.append(\"director('\"+ movie_title +\"','\"+ director_name+\"')\")\n",
        "\n",
        "    #Movie Year - Decade (1910 - 2017)\n",
        "    title_year = str(getattr(row, 'title_year'))\n",
        "    if title_year != 'UNK':\n",
        "      year = split_decades(title_year)\n",
        "      literals.append(\"year('\"+ movie_title +\"','\"+ year+\"')\")\n",
        "\n",
        "    #Actors\n",
        "    for actor in [clean_text(getattr(row, 'actor_1_name')), clean_text(getattr(row, 'actor_2_name')), clean_text(getattr(row, 'actor_3_name'))]:\n",
        "            literals.append(\"actors('\"+ movie_title +\"','\"+ actor.replace(\"'\",'\"') +\"')\")\n",
        "\n",
        "    #Production\n",
        "    production_companies = clean_text(getattr(row, 'production_companies'))\n",
        "    if production_companies != '[]':\n",
        "      literals.append(\"company('\"+ movie_title +\"','\"+ production_companies+\"')\")\n",
        "    production_countries = clean_text(getattr(row, 'production_countries'))\n",
        "    if production_countries != '[]':\n",
        "      literals.append(\"country('\"+ movie_title +\"','\"+ production_countries+\"')\")\n",
        "\n",
        "literals.sort()\n",
        "for literal in literals:\n",
        "  prolog.assertz(literal)"
      ],
      "execution_count": null,
      "outputs": []
    },
    {
      "cell_type": "code",
      "source": [
        "filtered_elements = [element for element in literals if 'year' in element]\n",
        "filtered_elements = [element for element in filtered_elements if '90s' in element]\n",
        "\n",
        "print(filtered_elements)"
      ],
      "metadata": {
        "id": "H5poc3PfVjDd",
        "colab": {
          "base_uri": "https://localhost:8080/"
        },
        "outputId": "34b662da-6439-4584-b390-4bb7b6e1a236"
      },
      "execution_count": null,
      "outputs": [
        {
          "output_type": "stream",
          "name": "stdout",
          "text": [
            "[\"year('10 Things I Hate About You','90s')\", \"year('20 Dates','90s')\", \"year('200 Cigarettes','90s')\", \"year('24 7: Twenty Four Seven','90s')\", \"year('3 Ninjas Kick Back','90s')\", \"year('54','90s')\", \"year('8 Heads in a Duffel Bag','90s')\", \"year('8MM','90s')\", \"year('A Bugs Life','90s')\", \"year('A Civil Action','90s')\", \"year('A Dog Of Flanders','90s')\", \"year('A Few Good Men','90s')\", \"year('A League of Their Own','90s')\", \"year('A Low Down Dirty Shame','90s')\", \"year('A Night at the Roxbury','90s')\", \"year('A Room for Romeo Brass','90s')\", \"year('A Simple Plan','90s')\", \"year('A Simple Wish','90s')\", \"year('A Thin Line Between Love and Hate','90s')\", \"year('A Time to Kill','90s')\", \"year('A Walk on the Moon','90s')\", \"year('Absolute Power','90s')\", \"year('Ace Ventura: Pet Detective','90s')\", \"year('Ace Ventura: When Nature Calls','90s')\", \"year('Aimee & Jaguar','90s')\", \"year('Air Bud','90s')\", \"year('Air Force One','90s')\", \"year('Airborne','90s')\", \"year('Aladdin','90s')\", \"year('Albino Alligator','90s')\", \"year('Alien: Resurrection','90s')\", \"year('Alien³','90s')\", \"year('Alive','90s')\", \"year('American Beauty','90s')\", \"year('American History X','90s')\", \"year('American Pie','90s')\", \"year('Amistad','90s')\", \"year('Among Giants','90s')\", \"year('An Alan Smithee Film: Burn, Hollywood, Burn','90s')\", \"year('An Ideal Husband','90s')\", \"year('Anaconda','90s')\", \"year('Analyze This','90s')\", \"year('Anastasia','90s')\", \"year('Angelas Ashes','90s')\", \"year('Anna and the King','90s')\", \"year('Antz','90s')\", \"year('Any Given Sunday','90s')\", \"year('Anywhere But Here','90s')\", \"year('Apollo 13','90s')\", \"year('Arachnophobia','90s')\", \"year('Arlington Road','90s')\", \"year('Armageddon','90s')\", \"year('Army of Darkness','90s')\", \"year('As Good as It Gets','90s')\", \"year('Assassins','90s')\", \"year('At First Sight','90s')\", \"year('Austin Powers: International Man of Mystery','90s')\", \"year('Austin Powers: The Spy Who Shagged Me','90s')\", \"year('Babe','90s')\", \"year('Babe: Pig in the City','90s')\", \"year('Baby Geniuses','90s')\", \"year('Babys Day Out','90s')\", \"year('Back to the Future Part III','90s')\", \"year('Bad Boys','90s')\", \"year('Bang','90s')\", \"year('Barneys Great Adventure','90s')\", \"year('Basquiat','90s')\", \"year('Batman & Robin','90s')\", \"year('Batman Forever','90s')\", \"year('Batman Returns','90s')\", \"year('Bats','90s')\", \"year('Beastmaster 2: Through the Portal of Time','90s')\", \"year('Beavis and Butt-Head Do America','90s')\", \"year('Before Sunrise','90s')\", \"year('Being John Malkovich','90s')\", \"year('Beloved','90s')\", \"year('Beverly Hills Cop III','90s')\", \"year('Beyond the Mat','90s')\", \"year('Bicentennial Man','90s')\", \"year('Big Daddy','90s')\", \"year('Bill & Teds Bogus Journey','90s')\", \"year('Blade','90s')\", \"year('Blast from the Past','90s')\", \"year('Blood and Wine','90s')\", \"year('Blue Streak','90s')\", \"year('Bogus','90s')\", \"year('Boogie Nights','90s')\", \"year('Boomerang','90s')\", \"year('Bottle Rocket','90s')\", \"year('Bound by Honor','90s')\", \"year('Bound','90s')\", \"year('Bowfinger','90s')\", \"year('Boys Dont Cry','90s')\", \"year('Boyz n the Hood','90s')\", \"year('Braveheart','90s')\", \"year('Breakdown','90s')\", \"year('Breakfast of Champions','90s')\", \"year('Bride of Chucky','90s')\", \"year('Bringing Out the Dead','90s')\", \"year('Brokedown Palace','90s')\", \"year('Broken Arrow','90s')\", \"year('Broken Vessels','90s')\", \"year('Buffalo 66','90s')\", \"year('Bullets Over Broadway','90s')\", \"year('Bulworth','90s')\", \"year('But Im a Cheerleader','90s')\", \"year('Cant Hardly Wait','90s')\", \"year('Cape Fear','90s')\", \"year('Casino','90s')\", \"year('Casper','90s')\", \"year('Cats Dont Dance','90s')\", \"year('Celebrity','90s')\", \"year('Central Station','90s')\", \"year('Chain Reaction','90s')\", \"year('Chairman of the Board','90s')\", \"year('Character','90s')\", \"year('Chasing Amy','90s')\", \"year('Children of Heaven','90s')\", \"year('Childs Play 2','90s')\", \"year('Chill Factor','90s')\", \"year('City Hall','90s')\", \"year('City of Angels','90s')\", \"year('Clay Pigeons','90s')\", \"year('Clear and Present Danger','90s')\", \"year('Clerks','90s')\", \"year('Cliffhanger','90s')\", \"year('Clockwatchers','90s')\", \"year('Clueless','90s')\", \"year('Con Air','90s')\", \"year('Congo','90s')\", \"year('Conspiracy Theory','90s')\", \"year('Contact','90s')\", \"year('Cool Runnings','90s')\", \"year('Cop Land','90s')\", \"year('Copycat','90s')\", \"year('Courage Under Fire','90s')\", \"year('Cradle Will Rock','90s')\", \"year('Crazy in Alabama','90s')\", \"year('Creature','90s')\", \"year('Crimson Tide','90s')\", \"year('Critical Care','90s')\", \"year('Crooklyn','90s')\", \"year('Cruel Intentions','90s')\", \"year('Cube','90s')\", \"year('Cure','90s')\", \"year('Cutthroat Island','90s')\", \"year('Dancer, Texas Pop. 81','90s')\", \"year('Dances with Wolves','90s')\", \"year('Dantes Peak','90s')\", \"year('Dark City','90s')\", \"year('Daylight','90s')\", \"year('Days of Thunder','90s')\", \"year('Dazed and Confused','90s')\", \"year('Dead Man Walking','90s')\", \"year('Dead Man on Campus','90s')\", \"year('Death Becomes Her','90s')\", \"year('Deconstructing Harry','90s')\", \"year('Deep Blue Sea','90s')\", \"year('Deep Impact','90s')\", \"year('Deep Rising','90s')\", \"year('Def Jams How to Be a Player','90s')\", \"year('Desert Blue','90s')\", \"year('Desperado','90s')\", \"year('Detroit Rock City','90s')\", \"year('Deuce Bigalow: Male Gigolo','90s')\", \"year('Dick Tracy','90s')\", \"year('Dick','90s')\", \"year('Die Hard 2','90s')\", \"year('Die Hard: With a Vengeance','90s')\", \"year('Dirty Work','90s')\", \"year('Disclosure','90s')\", \"year('Disturbing Behavior','90s')\", \"year('Doctor Dolittle','90s')\", \"year('Dogma','90s')\", \"year('Don Juan DeMarco','90s')\", \"year('Donnie Brasco','90s')\", \"year('Double Impact','90s')\", \"year('Double Jeopardy','90s')\", \"year('Dougs 1st Movie','90s')\", \"year('Dracula','90s')\", \"year('DragonHeart','90s')\", \"year('Dream with the Fishes','90s')\", \"year('Dreaming of Joseph Lees','90s')\", \"year('Drive Me Crazy','90s')\", \"year('Drop Dead Gorgeous','90s')\", \"year('Dudley Do-Right','90s')\", \"year('Dumb and Dumber','90s')\", \"year('Déjà Vu','90s')\", \"year('Earth','90s')\", \"year('East Is East','90s')\", \"year('Ed Wood','90s')\", \"year('Ed and His Dead Mother','90s')\", \"year('Edtv','90s')\", \"year('Edward Scissorhands','90s')\", \"year('El Mariachi','90s')\", \"year('Election','90s')\", \"year('Elizabeth','90s')\", \"year('End of Days','90s')\", \"year('Enemy of the State','90s')\", \"year('Entrapment','90s')\", \"year('Eraser','90s')\", \"year('Escape from L.A.','90s')\", \"year('Event Horizon','90s')\", \"year('Ever After: A Cinderella Story','90s')\", \"year('Everyone Says I Love You','90s')\", \"year('Eves Bayou','90s')\", \"year('Evita','90s')\", \"year('Excessive Force','90s')\", \"year('Executive Decision','90s')\", \"year('Exotica','90s')\", \"year('Extreme Measures','90s')\", \"year('Eye for an Eye','90s')\", \"year('Eye of the Beholder','90s')\", \"year('Eyes Wide Shut','90s')\", \"year('Face/Off','90s')\", \"year('Faithful','90s')\", \"year('Fantasia 2000','90s')\", \"year('Fear and Loathing in Las Vegas','90s')\", \"year('Felicias Journey','90s')\", \"year('Fight Club','90s')\", \"year('First Knight','90s')\", \"year('First Love, Last Rites','90s')\", \"year('Flatliners','90s')\", \"year('Flawless','90s')\", \"year('Fled','90s')\", \"year('Flight of the Intruder','90s')\", \"year('Flipper','90s')\", \"year('Flirting with Disaster','90s')\", \"year('Flubber','90s')\", \"year('Foolish','90s')\", \"year('For Love of the Game','90s')\", \"year('Forrest Gump','90s')\", \"year('Fortress','90s')\", \"year('Four Rooms','90s')\", \"year('Four Weddings and a Funeral','90s')\", \"year('Freddys Dead: The Final Nightmare','90s')\", \"year('Freeway','90s')\", \"year('Friday','90s')\", \"year('From Dusk Till Dawn','90s')\", \"year('G.I. Jane','90s')\", \"year('Galaxy Quest','90s')\", \"year('Gattaca','90s')\", \"year('George of the Jungle','90s')\", \"year('Get Shorty','90s')\", \"year('Get on the Bus','90s')\", \"year('Gettysburg','90s')\", \"year('Ghost Dog: The Way of the Samurai','90s')\", \"year('Ghost','90s')\", \"year('Ghosts of Mississippi','90s')\", \"year('Girl 6','90s')\", \"year('Girl, Interrupted','90s')\", \"year('Glengarry Glen Ross','90s')\", \"year('Go','90s')\", \"year('Gods and Monsters','90s')\", \"year('Godzilla 2000','90s')\", \"year('GoldenEye','90s')\", \"year('Good Will Hunting','90s')\", \"year('GoodFellas','90s')\", \"year('Gremlins 2: The New Batch','90s')\", \"year('Grosse Pointe Blank','90s')\", \"year('Groundhog Day','90s')\", \"year('Hackers','90s')\", \"year('Half Baked','90s')\", \"year('Halloween: The Curse of Michael Myers','90s')\", \"year('Hamlet','90s')\", \"year('Happiness','90s')\", \"year('Happy Gilmore','90s')\", \"year('Happy, Texas','90s')\", \"year('Hard Rain','90s')\", \"year('Harley Davidson and the Marlboro Man','90s')\", \"year('Harriet the Spy','90s')\", \"year('Hav Plenty','90s')\", \"year('He Got Game','90s')\", \"year('Heavenly Creatures','90s')\", \"year('Held Up','90s')\", \"year('Highlander: The Final Dimension','90s')\", \"year('Hocus Pocus','90s')\", \"year('Hoffa','90s')\", \"year('Holy Man','90s')\", \"year('Home Alone 2: Lost in New York','90s')\", \"year('Home Alone','90s')\", \"year('Home Fries','90s')\", \"year('Home for the Holidays','90s')\", \"year('Hook','90s')\", \"year('Hoop Dreams','90s')\", \"year('Hope Floats','90s')\", \"year('House Party 2','90s')\", \"year('House on Haunted Hill','90s')\", \"year('How Stella Got Her Groove Back','90s')\", \"year('Howards End','90s')\", \"year('Hudson Hawk','90s')\", \"year('Human Traffic','90s')\", \"year('Hurricane Streets','90s')\", \"year('I Got the Hook Up','90s')\", \"year('I Know What You Did Last Summer','90s')\", \"year('I Love You, Dont Touch Me!','90s')\", \"year('I Married a Strange Person!','90s')\", \"year('I Still Know What You Did Last Summer','90s')\", \"year('Idle Hands','90s')\", \"year('Illuminata','90s')\", \"year('In & Out','90s')\", \"year('In Dreams','90s')\", \"year('In Too Deep','90s')\", \"year('In the Company of Men','90s')\", \"year('Independence Day','90s')\", \"year('Inspector Gadget','90s')\", \"year('Instinct','90s')\", \"year('Interview with the Vampire','90s')\", \"year('JFK','90s')\", \"year('Jackie Brown','90s')\", \"year('Jade','90s')\", \"year('Jakob the Liar','90s')\", \"year('Jason Goes to Hell: The Final Friday','90s')\", \"year('Jawbreaker','90s')\", \"year('Jefferson in Paris','90s')\", \"year('Jerry Maguire','90s')\", \"year('Jesus Son','90s')\", \"year('Jingle All the Way','90s')\", \"year('Johnny Suede','90s')\", \"year('Jurassic Park','90s')\", \"year('Just Looking','90s')\", \"year('Kama Sutra - A Tale of Love','90s')\", \"year('Kansas City','90s')\", \"year('Kids','90s')\", \"year('Killing Zoe','90s')\", \"year('Kindergarten Cop','90s')\", \"year('Kingpin','90s')\", \"year('Kiss of Death','90s')\", \"year('Kiss the Girls','90s')\", \"year('Knock Off','90s')\", \"year('Kundun','90s')\", \"year('L.A. Confidential','90s')\", \"year('Lake Placid','90s')\", \"year('Last Action Hero','90s')\", \"year('Leaving Las Vegas','90s')\", \"year('Legends of the Fall','90s')\", \"year('Lethal Weapon 3','90s')\", \"year('Lethal Weapon 4','90s')\", \"year('Liar Liar','90s')\", \"year('Light It Up','90s')\", \"year('Light Sleeper','90s')\", \"year('Limbo','90s')\", \"year('Little Voice','90s')\", \"year('Little Women','90s')\", \"year('Living Out Loud','90s')\", \"year('Lock, Stock and Two Smoking Barrels','90s')\", \"year('Lone Star','90s')\", \"year('Lost in Space','90s')\", \"year('Love Jones','90s')\", \"year('Love Stinks','90s')\", \"year('Love and Death on Long Island','90s')\", \"year('Love and Other Catastrophes','90s')\", \"year('Mad City','90s')\", \"year('Madadayo','90s')\", \"year('Magnolia','90s')\", \"year('Malcolm X','90s')\", \"year('Mallrats','90s')\", \"year('Man on the Moon','90s')\", \"year('Mars Attacks!','90s')\", \"year('Marvins Room','90s')\", \"year('Mary Reilly','90s')\", \"year('Maximum Risk','90s')\", \"year('Medicine Man','90s')\", \"year('Meet Joe Black','90s')\", \"year('Meet the Deedles','90s')\", \"year('Memoirs of an Invisible Man','90s')\", \"year('Men in Black','90s')\", \"year('Men of War','90s')\", \"year('Menace II Society','90s')\", \"year('Mercury Rising','90s')\", \"year('Message in a Bottle','90s')\", \"year('Metropolitan','90s')\", \"year('Michael Collins','90s')\", \"year('Mickey Blue Eyes','90s')\", \"year('Midnight Cabaret','90s')\", \"year('Midnight in the Garden of Good and Evil','90s')\", \"year('Mighty Joe Young','90s')\", \"year('Mission: Impossible','90s')\", \"year('Mo Better Blues','90s')\", \"year('Molly','90s')\", \"year('Money Talks','90s')\", \"year('Money Train','90s')\", \"year('Mortal Kombat','90s')\", \"year('Mortal Kombat: Annihilation','90s')\", \"year('Mr. Hollands Opus','90s')\", \"year('Mr. Nice Guy','90s')\", \"year('Mrs. Doubtfire','90s')\", \"year('Mrs. Winterbourne','90s')\", \"year('Much Ado About Nothing','90s')\", \"year('Mulan','90s')\", \"year('Multiplicity','90s')\", \"year('Mumford','90s')\", \"year('Muppets from Space','90s')\", \"year('My Best Friends Wedding','90s')\", \"year('My Cousin Vinny','90s')\", \"year('My Favorite Martian','90s')\", \"year('My Fellow Americans','90s')\", \"year('My Girl','90s')\", \"year('My Own Private Idaho','90s')\", \"year('Mystery Men','90s')\", \"year('Mystery, Alaska','90s')\", \"year('National Lampoons Loaded Weapon 1','90s')\", \"year('Naturally Native','90s')\", \"year('New Nightmare','90s')\", \"year('Next Stop Wonderland','90s')\", \"year('Nixon','90s')\", \"year('Nothing to Lose','90s')\", \"year('Notting Hill','90s')\", \"year('Nowhere to Run','90s')\", \"year('Office Space','90s')\", \"year('On Deadly Ground','90s')\", \"year('One Mans Hero','90s')\", \"year('One True Thing','90s')\", \"year('Only the Strong','90s')\", \"year('Orgazmo','90s')\", \"year('Oscar and Lucinda','90s')\", \"year('Out of Sight','90s')\", \"year('Outbreak','90s')\", \"year('Outside Providence','90s')\", \"year('PCU','90s')\", \"year('Patch Adams','90s')\", \"year('Patriot Games','90s')\", \"year('Payback','90s')\", \"year('Phenomenon','90s')\", \"year('Philadelphia','90s')\", \"year('Pi','90s')\", \"year('Play It to the Bone','90s')\", \"year('Pocahontas','90s')\", \"year('Poetic Justice','90s')\", \"year('Police Academy: Mission to Moscow','90s')\", \"year('Practical Magic','90s')\", \"year('Predator 2','90s')\", \"year('Prefontaine','90s')\", \"year('Pretty Woman','90s')\", \"year('Primary Colors','90s')\", \"year('Princess Mononoke','90s')\", \"year('Pulp Fiction','90s')\", \"year('Pushing Tin','90s')\", \"year('Quest for Camelot','90s')\", \"year('Quigley Down Under','90s')\", \"year('Radio Flyer','90s')\", \"year('Raising Cain','90s')\", \"year('Random Hearts','90s')\", \"year('Ransom','90s')\", \"year('Rapa Nui','90s')\", \"year('Ravenous','90s')\", \"year('Renaissance Man','90s')\", \"year('Reservoir Dogs','90s')\", \"year('Return of the Living Dead 3','90s')\", \"year('Return to the Blue Lagoon','90s')\", \"year('Richard III','90s')\", \"year('Ride with the Devil','90s')\", \"year('Ri¢hie Ri¢h','90s')\", \"year('Rob Roy','90s')\", \"year('Robin Hood: Prince of Thieves','90s')\", \"year('RoboCop 3','90s')\", \"year('Romeo + Juliet','90s')\", \"year('Romeo Is Bleeding','90s')\", \"year('Ronin','90s')\", \"year('Rounders','90s')\", \"year('Ruby in Paradise','90s')\", \"year('Rumble in the Bronx','90s')\", \"year('Run Lola Run','90s')\", \"year('Runaway Bride','90s')\", \"year('Rushmore','90s')\", \"year('Safe Men','90s')\", \"year('Saving Private Ryan','90s')\", \"year('Schindlers List','90s')\", \"year('Scream 2','90s')\", \"year('Scream','90s')\", \"year('Se7en','90s')\", \"year('Selena','90s')\", \"year('Sense and Sensibility','90s')\", \"year('Serial Mom','90s')\", \"year('Set It Off','90s')\", \"year('Seven Years in Tibet','90s')\", \"year('Sgt. Bilko','90s')\", \"year('Shadow Conspiracy','90s')\", \"year('Shadowlands','90s')\", \"year('Shakespeare in Love','90s')\", \"year('Shes All That','90s')\", \"year('Shes the One','90s')\", \"year('Shine','90s')\", \"year('Shipwrecked','90s')\", \"year('Shooting Fish','90s')\", \"year('Showdown in Little Tokyo','90s')\", \"year('Showgirls','90s')\", \"year('Silent Trigger','90s')\", \"year('Simon Birch','90s')\", \"year('Simply Irresistible','90s')\", \"year('Six Days Seven Nights','90s')\", \"year('Six-String Samurai','90s')\", \"year('Slacker','90s')\", \"year('Slam','90s')\", \"year('Sleepers','90s')\", \"year('Sliding Doors','90s')\", \"year('Sling Blade','90s')\", \"year('Slums of Beverly Hills','90s')\", \"year('Small Soldiers','90s')\", \"year('Smiling Fish & Goat On Fire','90s')\", \"year('Smillas Sense of Snow','90s')\", \"year('Smoke Signals','90s')\", \"year('Snake Eyes','90s')\", \"year('Snow Falling on Cedars','90s')\", \"year('Snow White: A Tale of Terror','90s')\", \"year('Soldier','90s')\", \"year('Soul Food','90s')\", \"year('South Park: Bigger, Longer & Uncut','90s')\", \"year('Space Jam','90s')\", \"year('Spaced Invaders','90s')\", \"year('Sparkler','90s')\", \"year('Spawn','90s')\", \"year('Species','90s')\", \"year('Speed 2: Cruise Control','90s')\", \"year('Speed','90s')\", \"year('Speedway Junky','90s')\", \"year('Sphere','90s')\", \"year('Spice World','90s')\", \"year('Split Second','90s')\", \"year('Spy Hard','90s')\", \"year('Star Trek VI: The Undiscovered Country','90s')\", \"year('Star Trek: First Contact','90s')\", \"year('Star Trek: Generations','90s')\", \"year('Star Trek: Insurrection','90s')\", \"year('Star Wars: Episode I - The Phantom Menace','90s')\", \"year('Starship Troopers','90s')\", \"year('Steel','90s')\", \"year('Stepmom','90s')\", \"year('Stiff Upper Lips','90s')\", \"year('Stigmata','90s')\", \"year('Stir of Echoes','90s')\", \"year('Stone Cold','90s')\", \"year('Straight Out of Brooklyn','90s')\", \"year('Street Fighter','90s')\", \"year('Striptease','90s')\", \"year('Stuart Little','90s')\", \"year('Sugar Hill','90s')\", \"year('Sugar Town','90s')\", \"year('Summer of Sam','90s')\", \"year('Super Mario Bros.','90s')\", \"year('Superstar','90s')\", \"year('Swingers','90s')\", \"year('Switchback','90s')\", \"year('Tales from the Crypt: Demon Knight','90s')\", \"year('Tales from the Hood','90s')\", \"year('Tango','90s')\", \"year('Tank Girl','90s')\", \"year('Taxman','90s')\", \"year('Tea with Mussolini','90s')\", \"year('Teenage Mutant Ninja Turtles II: The Secret of the Ooze','90s')\", \"year('Teenage Mutant Ninja Turtles III','90s')\", \"year('Terminator 2: Judgment Day','90s')\", \"year('That Thing You Do!','90s')\", \"year('The 13th Warrior','90s')\", \"year('The Addams Family','90s')\", \"year('The Adventures of Elmo in Grouchland','90s')\", \"year('The Adventures of Ford Fairlane','90s')\", \"year('The Adventures of Huck Finn','90s')\", \"year('The Adventures of Pinocchio','90s')\", \"year('The Age of Innocence','90s')\", \"year('The American President','90s')\", \"year('The Apostle','90s')\", \"year('The Astronauts Wife','90s')\", \"year('The Best Man','90s')\", \"year('The Big Hit','90s')\", \"year('The Big Lebowski','90s')\", \"year('The Big Swap','90s')\", \"year('The Big Tease','90s')\", \"year('The Blair Witch Project','90s')\", \"year('The Bodyguard','90s')\", \"year('The Bone Collector','90s')\", \"year('The Boondock Saints','90s')\", \"year('The Borrowers','90s')\", \"year('The Bridges of Madison County','90s')\", \"year('The Brothers McMullen','90s')\", \"year('The Cable Guy','90s')\", \"year('The Celebration','90s')\", \"year('The Chambermaid on the Titanic','90s')\", \"year('The Client','90s')\", \"year('The Corruptor','90s')\", \"year('The Craft','90s')\", \"year('The Crow','90s')\", \"year('The Crying Game','90s')\", \"year('The Deep End of the Ocean','90s')\", \"year('The Devils Advocate','90s')\", \"year('The Devils Own','90s')\", \"year('The Doors','90s')\", \"year('The Dress','90s')\", \"year('The Edge','90s')\", \"year('The End of the Affair','90s')\", \"year('The English Patient','90s')\", \"year('The Faculty','90s')\", \"year('The Fan','90s')\", \"year('The Fifth Element','90s')\", \"year('The Firm','90s')\", \"year('The First Wives Club','90s')\", \"year('The Fisher King','90s')\", \"year('The Flintstones','90s')\", \"year('The Fugitive','90s')\", \"year('The Full Monty','90s')\", \"year('The Funeral','90s')\", \"year('The Game','90s')\", \"year('The Generals Daughter','90s')\", \"year('The Ghost and the Darkness','90s')\", \"year('The Glimmer Man','90s')\", \"year('The Godfather: Part III','90s')\", \"year('The Green Mile','90s')\", \"year('The Haunting','90s')\", \"year('The Horse Whisperer','90s')\", \"year('The Horseman on the Roof','90s')\", \"year('The Hudsucker Proxy','90s')\", \"year('The Hunchback of Notre Dame','90s')\", \"year('The Hunt for Red October','90s')\", \"year('The Hurricane','90s')\", \"year('The Ice Storm','90s')\", \"year('The Incredibly True Adventure of Two Girls In Love','90s')\", \"year('The Indian in the Cupboard','90s')\", \"year('The Inkwell','90s')\", \"year('The Insider','90s')\", \"year('The Iron Giant','90s')\", \"year('The Island of Dr. Moreau','90s')\", \"year('The Jackal','90s')\", \"year('The Jerky Boys','90s')\", \"year('The Juror','90s')\", \"year('The Land Girls','90s')\", \"year('The Last Big Thing','90s')\", \"year('The Last Time I Committed Suicide','90s')\", \"year('The Last of the Mohicans','90s')\", \"year('The Lawnmower Man','90s')\", \"year('The Legend of Drunken Master','90s')\", \"year('The Limey','90s')\", \"year('The Lion King','90s')\", \"year('The Long Kiss Goodnight','90s')\", \"year('The Loss of Sexual Innocence','90s')\", \"year('The Lost World: Jurassic Park','90s')\", \"year('The Love Letter','90s')\", \"year('The Man Who Knew Too Little','90s')\", \"year('The Man in the Iron Mask','90s')\", \"year('The Mask of Zorro','90s')\", \"year('The Mask','90s')\", \"year('The Matrix','90s')\", \"year('The Messenger: The Story of Joan of Arc','90s')\", \"year('The Mighty Ducks','90s')\", \"year('The Mighty','90s')\", \"year('The Mirror Has Two Faces','90s')\", \"year('The Muppet Christmas Carol','90s')\", \"year('The Muse','90s')\", \"year('The Naked Gun 2½: The Smell of Fear','90s')\", \"year('The Naked Gun 33⅓: The Final Insult','90s')\", \"year('The Negotiator','90s')\", \"year('The Net','90s')\", \"year('The Newton Boys','90s')\", \"year('The Ninth Gate','90s')\", \"year('The Nutcracker','90s')\", \"year('The Nutty Professor','90s')\", \"year('The Object of My Affection','90s')\", \"year('The Omega Code','90s')\", \"year('The Other Conquest','90s')\", \"year('The Out-of-Towners','90s')\", \"year('The Pallbearer','90s')\", \"year('The Peacemaker','90s')\", \"year('The Pelican Brief','90s')\", \"year('The Perez Family','90s')\", \"year('The Phantom','90s')\", \"year('The Piano','90s')\", \"year('The Players Club','90s')\", \"year('The Postman','90s')\", \"year('The Prince of Egypt','90s')\", \"year('The Prince of Tides','90s')\", \"year('The Prophecy','90s')\", \"year('The Quick and the Dead','90s')\", \"year('The Rage: Carrie 2','90s')\", \"year('The Rainmaker','90s')\", \"year('The Red Violin','90s')\", \"year('The Relic','90s')\", \"year('The Remains of the Day','90s')\", \"year('The Replacement Killers','90s')\", \"year('The River Wild','90s')\", \"year('The Rock','90s')\", \"year('The Rugrats Movie','90s')\", \"year('The Saint','90s')\", \"year('The Santa Clause','90s')\", \"year('The Scarlet Letter','90s')\", \"year('The Shadow','90s')\", \"year('The Shawshank Redemption','90s')\", \"year('The Siege','90s')\", \"year('The Silence of the Lambs','90s')\", \"year('The Sixth Sense','90s')\", \"year('The Spanish Prisoner','90s')\", \"year('The Specialist','90s')\", \"year('The Sticky Fingers of Time','90s')\", \"year('The Story of Us','90s')\", \"year('The Straight Story','90s')\", \"year('The Sweet Hereafter','90s')\", \"year('The Swindle','90s')\", \"year('The Talented Mr. Ripley','90s')\", \"year('The Thief and the Cobbler','90s')\", \"year('The Thin Red Line','90s')\", \"year('The Thirteenth Floor','90s')\", \"year('The Thomas Crown Affair','90s')\", \"year('The Truman Show','90s')\", \"year('The Usual Suspects','90s')\", \"year('The Velocity of Gary','90s')\", \"year('The Virgin Suicides','90s')\", \"year('The Visitors II: The Corridors of Time','90s')\", \"year('The Visitors','90s')\", \"year('The Waterboy','90s')\", \"year('The Woman Chaser','90s')\", \"year('The Wood','90s')\", \"year('The World Is Not Enough','90s')\", \"year('The X Files','90s')\", \"year('There Goes My Baby','90s')\", \"year('Theres Something About Mary','90s')\", \"year('Things to Do in Denver When Youre Dead','90s')\", \"year('Thinner','90s')\", \"year('Three Kings','90s')\", \"year('Three to Tango','90s')\", \"year('Timecop','90s')\", \"year('Tin Cup','90s')\", \"year('Titanic','90s')\", \"year('To Die For','90s')\", \"year('Tombstone','90s')\", \"year('Tomorrow Never Dies','90s')\", \"year('Topsy-Turvy','90s')\", \"year('Total Recall','90s')\", \"year('Toy Story 2','90s')\", \"year('Toy Story','90s')\", \"year('Trainspotting','90s')\", \"year('Trees Lounge','90s')\", \"year('Trekkies','90s')\", \"year('Tremors','90s')\", \"year('Trippin','90s')\", \"year('True Lies','90s')\", \"year('True Romance','90s')\", \"year('Tumbleweeds','90s')\", \"year('Turbulence','90s')\", \"year('Twin Falls Idaho','90s')\", \"year('Twister','90s')\", \"year('Two Evil Eyes','90s')\", \"year('Two Girls and a Guy','90s')\", \"year('Ulees Gold','90s')\", \"year('Under Siege 2: Dark Territory','90s')\", \"year('Unforgiven','90s')\", \"year('Universal Soldier: The Return','90s')\", \"year('Up Close & Personal','90s')\", \"year('Urban Legend','90s')\", \"year('Vampire in Brooklyn','90s')\", \"year('Vampires','90s')\", \"year('Varsity Blues','90s')\", \"year('Velvet Goldmine','90s')\", \"year('Very Bad Things','90s')\", \"year('Virtuosity','90s')\", \"year('Volcano','90s')\", \"year('Wag the Dog','90s')\", \"year('Waiting for Guffman','90s')\", \"year('Waking Ned','90s')\", \"year('Walking and Talking','90s')\", \"year('Warlock: The Armageddon','90s')\", \"year('Warriors of Virtue','90s')\", \"year('Waterworld','90s')\", \"year('Waynes World','90s')\", \"year('Welcome to the Dollhouse','90s')\", \"year('What Dreams May Come','90s')\", \"year('Whats Eating Gilbert Grape','90s')\", \"year('Whats Love Got to Do with It','90s')\", \"year('When the Cats Away','90s')\", \"year('White Fang','90s')\", \"year('White Squall','90s')\", \"year('Wild Things','90s')\", \"year('Wild Wild West','90s')\", \"year('Wing Commander','90s')\", \"year('Without Limits','90s')\", \"year('Wolf','90s')\", \"year('Woo','90s')\", \"year('Wyatt Earp','90s')\", \"year('Youve Got Mail','90s')\", \"year('Zero Effect','90s')\", \"year('eXistenZ','90s')\"]\n"
          ]
        }
      ]
    },
    {
      "cell_type": "markdown",
      "source": [
        "## Μέρος 1β"
      ],
      "metadata": {
        "id": "GOLD2CWDMjt0"
      }
    },
    {
      "cell_type": "code",
      "source": [
        "# FROM https://github.com/targodan/jupyter-swi-prolog/blob/master/jswipl/swipl.py\n",
        "from pyswip import Functor\n",
        "\n",
        "def format_value(value):\n",
        "    output = \"\"\n",
        "    if isinstance(value, list):\n",
        "        output = \"[ \" + \", \".join([format_value(val) for val in value]) + \" ]\"\n",
        "    elif isinstance(value, Functor) and value.arity == 2:\n",
        "        output = \"{0}{1}{2}\".format(value.args[0], value.name, value.args[1])\n",
        "    else:\n",
        "        output = \"{}\".format(value)\n",
        "\n",
        "    return output\n",
        "\n",
        "\n",
        "def format_result(result):\n",
        "    result = list(result)\n",
        "\n",
        "    if len(result) == 0:\n",
        "        return \"false.\"\n",
        "\n",
        "    if len(result) == 1 and len(result[0]) == 0:\n",
        "        return \"true.\"\n",
        "\n",
        "    output = \"\"\n",
        "    for res in result:\n",
        "        tmpOutput = []\n",
        "        for var in res:\n",
        "            tmpOutput.append(var + \" = \" + format_value(res[var]))\n",
        "        output += \", \".join(tmpOutput) + \" ;\\n\"\n",
        "    output = output[:-3] + \" .\"\n",
        "\n",
        "    return output"
      ],
      "metadata": {
        "id": "-qJZoA47TS7M"
      },
      "execution_count": null,
      "outputs": []
    },
    {
      "cell_type": "markdown",
      "source": [
        "## Νέα Κατηγορήματα:"
      ],
      "metadata": {
        "id": "FHHc4KhSUQaI"
      }
    },
    {
      "cell_type": "code",
      "source": [
        "# Same Director:\n",
        "prolog.assertz('(common_director(X, Y) :-  director(X,A), director(Y,A), X\\=Y )')\n",
        "\n",
        "#Same Language:\n",
        "prolog.assertz('(common_language(X, Y) :- language(X,D), language(Y,D), X \\= Y)')\n",
        "\n",
        "\n",
        "# Same Actors:\n",
        "## ------------------------All Three---------------------------------------------------------------------------------------------------------------------------------------------------------------------------:\n",
        "prolog.assertz('(common_actors_3(X, Y) :-  actors(X,A), actors(X,B), actors(X,C), actors(Y,A), actors(Y,B), actors(Y,C), X\\=Y, A \\= B, A \\= C, B \\= C)')\n",
        "## ------------------------Two Common--------------------------------------------------------------------------------------------------------------------------------------------------------------------:\n",
        "prolog.assertz('(common_actors_2(X, Y) :-  actors(X,A), actors(X,B), actors(Y,A), actors(Y,B), X\\=Y, A \\= B, not(common_actors_3(X, Y)) )')\n",
        "## ------------------------One Common--------------------------------------------------------------------------------------------------------------------------------------------------------------------:\n",
        "prolog.assertz('(common_actors_1(X, Y) :-  actors(X,A), actors(Y,A), X\\=Y, not(common_actors_2(X, Y)) )')\n",
        "\n",
        "\n",
        "#Same Genre:\n",
        "## ------------------------4 common genres--------------------------------------------------------------------------------------------------------------------------------------------------------------:\n",
        "prolog.assertz('(similar_genre_4(X, Y) :-  genre(X,A), genre(Y,A), genre(X,B), genre(Y,B), genre(X,C), genre(Y,C), genre(X,D), genre(Y,D), A\\=B, A\\=C, A\\=D, B\\=C, B\\=D, C\\=D, X\\=Y)')\n",
        "## ------------------------3 common genres--------------------------------------------------------------------------------------------------------------------------------------------------------------:\n",
        "prolog.assertz('(similar_genre_3(X, Y) :-  genre(X,A), genre(X,B), genre(X,C), genre(Y,A), genre(Y,B), genre(Y,C), X\\=Y, A\\= B, A\\= C, B\\=C, not(similar_genre_4(X, Y)) )')\n",
        "## ------------------------1 common genre--------------------------------------------------------------------------------------------------------------------------------------------------------------:\n",
        "prolog.assertz('(similar_genre_1(X, Y) :-  genre(X,A), genre(Y,A), X\\=Y, not(similar_genre_3(X, Y)) )')\n",
        "\n",
        "\n",
        "# Same Keywords:\n",
        "## ------------------------4 common keywords----------------------------------------------------------------------------------------------------------------------------------------------------------:\n",
        "prolog.assertz('(similar_keyword_4(X, Y) :-  keyword(X,A), keyword(Y,A), keyword(X,B), keyword(Y,B), keyword(X,C), keyword(Y,C), keyword(X,D), keyword(Y,D), A\\=B, A\\=C, A\\=D, B\\=C, B\\=D, C\\=D, X\\=Y)')\n",
        "## ------------------------3 common keywords----------------------------------------------------------------------------------------------------------------------------------------------------------:\n",
        "prolog.assertz('(similar_keyword_3(X, Y) :-  keyword(X,A), keyword(X,B), keyword(X,C), keyword(Y,A), keyword(Y,B), keyword(Y,C), X\\=Y, A\\= B, A\\= C, B\\=C, not(similar_keyword_4(X, Y)) )')\n",
        "## ------------------------1 common keyword----------------------------------------------------------------------------------------------------------------------------------------------------------:\n",
        "prolog.assertz('(similar_keyword_1(X, Y) :-  keyword(X,A), keyword(X,B), X\\=Y , A \\= B, not(similar_keyword_3(X, Y)))')\n",
        "\n",
        "\n",
        "# Same Company:\n",
        "prolog.assertz('(same_company(X, Y) :-  company(X,A), company(Y,A), X\\=Y )')\n",
        "\n",
        "# Same Country:\n",
        "prolog.assertz('(same_country(X, Y) :-  country(X,A), country(Y,A), X\\=Y )')\n",
        "\n",
        "#Black and White:\n",
        "prolog.assertz('(same_color(X,Y) :- color(X, C), color(Y, C), X \\= Y )')\n",
        "\n",
        "# Same Decade:\n",
        "prolog.assertz('(same_decades(X,Y) :- year(X, C), year(Y, C), X \\= Y )')"
      ],
      "metadata": {
        "id": "x_sC32AJPj8q"
      },
      "execution_count": null,
      "outputs": []
    },
    {
      "cell_type": "markdown",
      "source": [
        "## Testing:\n",
        "\n",
        "Για το κομμάτι του testing επιλέγουμε για όλα τα queries να διαλέξουμε τυχαία μια κοινή ταινία.\n",
        "\n",
        "Η ταινία μας είναι το `\"Blonde Ambition\"`:"
      ],
      "metadata": {
        "id": "hFI2bmnlvsH8"
      }
    },
    {
      "cell_type": "code",
      "source": [
        "movie = 'Blonde Ambition'"
      ],
      "metadata": {
        "id": "u4wQJeLdxhgm"
      },
      "execution_count": null,
      "outputs": []
    },
    {
      "cell_type": "code",
      "source": [
        "def format(list_):\n",
        "  if list_ == []:\n",
        "    print(\"There are zero movies\")\n",
        "  if len(list_) > 5:\n",
        "    list_ = list_[:5]\n",
        "  for l in list_:\n",
        "    print(l['M'])\n",
        "  print('\\n')\n",
        "  return"
      ],
      "metadata": {
        "id": "K0vFKaSnwhXt"
      },
      "execution_count": null,
      "outputs": []
    },
    {
      "cell_type": "code",
      "source": [
        "#DIrector\n",
        "dir = list(prolog.query(\"common_director('\" + movie +\"',M)\"))\n",
        "print(\"The first five movies with the same director: \")\n",
        "format(dir)\n",
        "\n",
        "#Language\n",
        "lang = list(prolog.query(\"common_language('\" + movie +\"',M)\"))\n",
        "print(\"The first five movies with the same language: \")\n",
        "format(lang)\n",
        "\n",
        "#Actors\n",
        "q = list(prolog.query(\"common_actors_1('\" + movie +\"',M)\"))\n",
        "print(\"The first five movies with one common actor: \")\n",
        "format(q)\n",
        "\n",
        "p = list(prolog.query(\"common_actors_2('\" + movie +\"',M)\"))\n",
        "print(\"The first five movies with the two common actors: \")\n",
        "format(p)\n",
        "\n",
        "w = list(prolog.query(\"common_actors_3('\" + movie +\"',M)\"))\n",
        "print(\"The first five movies with the three common actors: \")\n",
        "format(w)\n",
        "\n",
        "#Genre\n",
        "g1 = list(prolog.query(\"similar_genre_4('\" + movie +\"',M)\"))\n",
        "print(\"The first five movies with four same genres:\")\n",
        "format(g1)\n",
        "\n",
        "g2 = list(prolog.query(\"similar_genre_3('\" + movie +\"',M)\"))\n",
        "print(\"The first five movies with three same genres: \")\n",
        "format(g2)\n",
        "\n",
        "g3 = list(prolog.query(\"similar_genre_1('\" + movie +\"',M)\"))\n",
        "print(\"The first five movies with only one common genre: \")\n",
        "format(g3)\n",
        "\n",
        "# Skip some ... Test Decade:\n",
        "d = list(prolog.query(\"same_decades('\" + movie +\"',M)\"))\n",
        "print(\"The first five movies in the same decade: \")\n",
        "format(d)"
      ],
      "metadata": {
        "colab": {
          "base_uri": "https://localhost:8080/"
        },
        "id": "YMEe31TCPndw",
        "outputId": "b05cb01b-0803-4327-dc2f-0fe6cc2c31d7"
      },
      "execution_count": null,
      "outputs": [
        {
          "output_type": "stream",
          "name": "stdout",
          "text": [
            "The first five movies with the same director: \n",
            "There are zero movies\n",
            "\n",
            "\n",
            "The first five movies with the same language: \n",
            "Dead Snow\n",
            "Elling\n",
            "Troll Hunter\n",
            "Dead Snow\n",
            "Elling\n",
            "\n",
            "\n",
            "The first five movies with one common actor: \n",
            "Blue Streak\n",
            "Home Fries\n",
            "Legally Blonde\n",
            "My Dog Skip\n",
            "My Super Ex-Girlfriend\n",
            "\n",
            "\n",
            "The first five movies with the two common actors: \n",
            "There are zero movies\n",
            "\n",
            "\n",
            "The first five movies with the three common actors: \n",
            "There are zero movies\n",
            "\n",
            "\n",
            "The first five movies with four same genres:\n",
            "There are zero movies\n",
            "\n",
            "\n",
            "The first five movies with three same genres: \n",
            "There are zero movies\n",
            "\n",
            "\n",
            "The first five movies with only one common genre: \n",
            "(500) Days of Summer\n",
            "10 Things I Hate About You\n",
            "102 Dalmatians\n",
            "13 Going on 30\n",
            "16 to Life\n",
            "\n",
            "\n",
            "The first five movies in the same decade: \n",
            "(500) Days of Summer\n",
            "102 Dalmatians\n",
            "10th & Wolf\n",
            "11:14\n",
            "12 Rounds\n",
            "\n",
            "\n"
          ]
        }
      ]
    },
    {
      "cell_type": "markdown",
      "metadata": {
        "id": "ibe9jBk24rUd"
      },
      "source": [
        "# **2ο Μέρος: Recommendation System με βάση μόνο τα χαρακτηριστικά των ταινιών.**\n",
        "\n",
        "Στο σημείο αυτό με βάση τους κανόνες που κατασκευάστηκαν στο Μέρος 1 θα κατασκευαστούν κατηγορήματα για την ομοιότητα ταινιών. Παρακάτω δίνεται ένα μικρό παράδειγμα ενός κανόνα και πώς αυτός θα μπορούσε να γραφτεί μέσω του Pyswip. Επίσης όπως αναφέρεται και σε σχόλιο παραπάνω θα μπορεί να γραφτεί και μια βάση δεδομένων με τους κανόνες και να γίνει απευθείας consult.\n",
        "\n",
        "Στο παρακάτω παράδειγμα το 5 και το 4 εκφράζουν την ομοιότητα των ταινιών π.χ. οι ταινίες που παράγονται μέσω του find_similar_5 είναι πιο όμοιες από αυτές που παράγονται μέσω του find_similar_4.\n"
      ]
    },
    {
      "cell_type": "code",
      "metadata": {
        "id": "bh_jfhPC4rUd"
      },
      "source": [
        "def simple_recommender(movie):\n",
        "    s = set()\n",
        "    q = prolog.query(\"find_sim_1('\" + movie +\"',M)\")\n",
        "    for soln in q:\n",
        "        m = soln['M']\n",
        "        if m not in s:\n",
        "            s.add(soln['M'])\n",
        "    q.close()\n",
        "    answers = s\n",
        "    return answers"
      ],
      "execution_count": null,
      "outputs": []
    },
    {
      "cell_type": "code",
      "metadata": {
        "id": "Ug_L_Qx-4rUd"
      },
      "source": [
        "list(simple_recommender('Avatar'))[:5]"
      ],
      "execution_count": null,
      "outputs": []
    },
    {
      "cell_type": "markdown",
      "metadata": {
        "id": "YjpTwOuO4rUd"
      },
      "source": [
        "# **3ο Μέρος: Recommendation System Με βάση τις προτιμήσεις-Αξιολογήσεις του χρήστη-Εκπαίδευση και Πρόβλεψη**\n",
        "\n",
        "\n",
        "Αρχικά μελετάμε τις αξιολογήσεις κάθε χρήστη για να καταλάβουμε την δομή και τις πληροφορίες κάθε αρχείου.\n",
        "\n",
        "\n"
      ]
    },
    {
      "cell_type": "code",
      "metadata": {
        "id": "lL9P3GOd4rUe"
      },
      "source": [
        "from tqdm.notebook import tqdm\n",
        "from sklearn.metrics import precision_score, recall_score, f1_score\n",
        "import numpy as np\n",
        "import random\n",
        "\n",
        "rating_weights = {0: -1, 1: -0.5, 2:0, 3:0, 4:0.5, 5:1}\n",
        "score_weights = {i:i + 1 for i in range(1)} # ανάλογα με τα επίπεδα ομοιότητας που έχουν οριστεί στην simple_recommender\n",
        "\n",
        "def train_recommender(ratings, rating_weights, score_weights, number_of_movies = 10):\n",
        "    \"\"\"\n",
        "    Στην συνάρτηση αυτή μπορούμε να ορίζουμε ποιο υποσύνολο των αξιολογήσεων θα χρησιμοποιήσουμε για το train μαζί με τα βάρη ομοιότητας και σκορ\n",
        "    Σε συνδυασμό με τον αριθμό των ταινιών που θέλουμε να χρησιμοποιήσουμε σαν σύνολο δεδομένων π.χ. 10 από τις 100 ή 3 από τις 100 κ.ο.κ\n",
        "    Αν θέλουμε να χρησιμοποιήσουμε όλες τις ταινίες σαν training set τότε ορίζουμε το number_of_movies = - 1\n",
        "    \"\"\"\n",
        "\n",
        "    if number_of_movies > len(ratings):\n",
        "        number_of_movies = len(ratings)\n",
        "\n",
        "\n",
        "    if number_of_movies != -1:\n",
        "        indexes = random.sample(range(len(ratings)), number_of_movies)\n",
        "        ratings = ratings.iloc[indexes]\n",
        "\n",
        "    movie_score = {}\n",
        "    for row in tqdm(ratings.itertuples(index=True, name='Pandas')):\n",
        "        movie = clean_text(getattr(row, 'movie_title'))\n",
        "        rating = getattr(row, 'rating')\n",
        "\n",
        "        similar_movies = simple_recommender(movie)\n",
        "\n",
        "        for similar_movie in similar_movies:\n",
        "            if similar_movie not in movie_score:\n",
        "                movie_score[similar_movie] = rating_weights[int(rating)] * score_weights[0]\n",
        "            else:\n",
        "                movie_score[similar_movie] += rating_weights[int(rating)] * score_weights[0] # το weight θα το ορίσετε ανα επίπεδο ομοιότητας οι πολύ όμοιες ταινίες θα έχουν μεγαλύτερο βάρος\n",
        "    return movie_score\n",
        "\n",
        "\n",
        "# Αυτό είναι ένα παράδειγμα για το πως θα μπορούσε να υλοποιήθει η predict.\n",
        "# Έχουμε ορίσει ότι μια ταινία θα έπρεπε να είναι προτεινόμενη αν είχε σκορ > 0.\n",
        "def predict_example(ratings, movie_score):\n",
        "    real, pred = [], []\n",
        "    for i, row in enumerate(ratings.itertuples(index=True, name='Pandas')):\n",
        "        movie = clean_text(getattr(row, 'movie_title'))\n",
        "        rating = getattr(row, 'rating')\n",
        "\n",
        "        if movie in movie_score: #αν έχουμε σχηματίσει βαθμολογία για την ταινία αυτή\n",
        "            pred.append(int(movie_score[movie] > 0)) #heuristic για το αν μια ταινία είναι προτεινόμενη\n",
        "            real.append(int(rating > 3))# έτσι ορίζουμε ότι μια ταινία θα έπρεπε να είναι προτεινόμενη\n",
        "            #η συνθήκη αυτή δεν μπορεί να αλλάξει\n",
        "        else: #δεν μπορούμε να προτείνουμε κάτι για το όποιο δεν έχουμε σχηματίσει εικόνα\n",
        "            pred.append(0)\n",
        "            real.append(int(rating > 3))\n",
        "\n",
        "    return real, pred\n",
        "\n",
        "\n",
        "def get_metrics(real, pred):\n",
        "    metrics = {}\n",
        "    metrics[\"precision\"] = precision_score(real, pred)\n",
        "    metrics[\"recall\"] = recall_score(real, pred)\n",
        "    metrics[\"f1\"] = f1_score(real, pred)\n",
        "    return metrics"
      ],
      "execution_count": null,
      "outputs": []
    },
    {
      "cell_type": "markdown",
      "metadata": {
        "id": "IYusPpVKon2P"
      },
      "source": [
        "Η παραπάνω εκπαιδεύουν, τεστάρουν και μετρούν την απόδοσή του συστήματος στάσεων μας. Για την εκπαίδευση του συστήματος μπορούμε κάθε φορά να χρησιμοποιήσουμε ένα τυχαίο υποσύνολο του training set. Όμως είναι πιθανό το υποσύνολο των ταινιών αυτόν να επηρεάζει τα αποτελέσματα στο training set. Για παράδειγμα από 3 ταινίες στις 10 μπορούν για ένα πείραμα τα αποτελέσματα μας αν είναι ίδια και αυτό να μην οφείλεται στο γεγονός ότι ο ταξινομητής μας τα πηγαίνει καλά στις 3 ταινίες αλλά στο γεγονός ότι οι υπόλοιπες 7 είναι τέτοιες ταινίες που δεν μας βοηθούν καθόλου και αν είχαμε επιλέξει διαφορετικές 3 ταινίες να τα πηγαίναμε χάλια. Οπότε προτείνουμε να τρέξετε κάθε φορά έναν αριθμό πειραμάτων για κάθε υποσύνολο ταινιών π.χ. 10 πειράματα με 3 ταινίες, 10 πειράματα για 20 ταινίες κ.ο.κ. και να κρατήσετε σαν τελικό σκορ το μέσο όρο όλων των πειραμάτων. Έτσι τα αποτελέσματα των αγγλικών σας θα είναι πιο αντικειμενικά."
      ]
    },
    {
      "cell_type": "code",
      "metadata": {
        "id": "tnIDJLJX4rUe"
      },
      "source": [
        "train_ratings = pd.read_csv(path + \"train_ratings.csv\")\n",
        "test_ratings = pd.read_csv(path + \"test_ratings.csv\")"
      ],
      "execution_count": null,
      "outputs": []
    },
    {
      "cell_type": "code",
      "metadata": {
        "id": "IurBJXyA4rUe"
      },
      "source": [
        "metrics = []\n",
        "for i in range (10):\n",
        "    movie_score = train_recommender(train_ratings, rating_weights, score_weights, 10)\n",
        "    real, pred = predict_example(test_ratings, movie_score)\n",
        "    metrics.append(get_metrics(real, pred))\n",
        "\n",
        "for metric in metrics[0].keys():\n",
        "    print (f\"{metric}: {np.mean([m[metric] for m in metrics])}\")"
      ],
      "execution_count": null,
      "outputs": []
    },
    {
      "cell_type": "code",
      "metadata": {
        "id": "CJGdc8wmndwd"
      },
      "source": [
        "metrics = []\n",
        "for i in range (10):\n",
        "    movie_score = train_recommender(train_ratings, rating_weights, score_weights, 30)\n",
        "    real, pred = predict_example(test_ratings, movie_score)\n",
        "    metrics.append(get_metrics(real, pred))\n",
        "\n",
        "for metric in metrics[0].keys():\n",
        "    print (f\"{metric}: {np.mean([m[metric] for m in metrics])}\")"
      ],
      "execution_count": null,
      "outputs": []
    }
  ]
}